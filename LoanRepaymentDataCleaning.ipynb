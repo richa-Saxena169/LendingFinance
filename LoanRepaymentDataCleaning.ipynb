{
 "cells": [
  {
   "cell_type": "code",
   "execution_count": 3,
   "id": "b456b0f8",
   "metadata": {},
   "outputs": [],
   "source": [
    "from pyspark.sql import SparkSession\n",
    "import getpass\n",
    "username = getpass.getuser()\n",
    "\n",
    "spark = SparkSession.builder.appName(\"Practice-itv021172-2 \").config('spark.ui.port','0').config('spark.sql.warehouse.dir',f\"/user/itv021172/warehouse\").enableHiveSupport().master('yarn').getOrCreate()"
   ]
  },
  {
   "cell_type": "code",
   "execution_count": 4,
   "id": "80eccbb6",
   "metadata": {},
   "outputs": [],
   "source": [
    "schema ='''loan_id string,total_principal_recieved float,total_interest_recievd float,total_late_fee_recieved float,\n",
    "total_payment_recieved float,last_payment_amount float,last_payement_date string,next_payment_date string'''"
   ]
  },
  {
   "cell_type": "code",
   "execution_count": 5,
   "id": "6f41b0ed",
   "metadata": {},
   "outputs": [],
   "source": [
    "df = spark.read.format('csv').option('header',True).schema(schema).load('/public/trendytech/lendingclubproject/raw/loans_repayments_csv/part-00000-1dde4854-b613-4f8a-abf8-c50a004013a5-c000.csv')"
   ]
  },
  {
   "cell_type": "code",
   "execution_count": 6,
   "id": "3c0830c0",
   "metadata": {},
   "outputs": [],
   "source": [
    "from pyspark.sql.functions import *"
   ]
  },
  {
   "cell_type": "code",
   "execution_count": 7,
   "id": "bc52cd57",
   "metadata": {},
   "outputs": [],
   "source": [
    "loan_repayment = df.withColumn('Ingest_date',current_timestamp())"
   ]
  },
  {
   "cell_type": "code",
   "execution_count": 27,
   "id": "9b150a77",
   "metadata": {},
   "outputs": [],
   "source": [
    "filterdata = loan_repayment.dropna(subset=['total_principal_recieved','total_interest_recievd','total_late_fee_recieved','total_payment_recieved','last_payment_amount','last_payement_date'])"
   ]
  },
  {
   "cell_type": "code",
   "execution_count": null,
   "id": "7cea9d28",
   "metadata": {},
   "outputs": [],
   "source": [
    "filterdata"
   ]
  },
  {
   "cell_type": "code",
   "execution_count": 18,
   "id": "f834a935",
   "metadata": {},
   "outputs": [],
   "source": [
    "filldata = filterdata.withColumn('total_payment_recieved',when((col('total_payment_recieved') == 0) &\n",
    "                                                               (col('total_principal_recieved') != 0),\n",
    "                                                               col('total_interest_recievd') +col('total_late_fee_recieved') +  col('total_principal_recieved'))\n",
    "                                 .otherwise(col('total_payment_recieved')))"
   ]
  },
  {
   "cell_type": "code",
   "execution_count": 20,
   "id": "53d059e4",
   "metadata": {},
   "outputs": [],
   "source": [
    "loanrepadata = filldata.filter('total_payment_recieved != 0')"
   ]
  },
  {
   "cell_type": "code",
   "execution_count": 23,
   "id": "57cf124d",
   "metadata": {},
   "outputs": [],
   "source": [
    "lastpyamentfix = loanrepadata.withColumn('last_payement_date', when(col('last_payement_date')==0.0 ,None).otherwise(col('last_payement_date')))"
   ]
  },
  {
   "cell_type": "code",
   "execution_count": 28,
   "id": "27e7fdb3",
   "metadata": {},
   "outputs": [],
   "source": [
    "finalloanReapymentddata =lastpyamentfix.withColumn('next_payment_date', when(col('next_payment_date')==0.0 ,None).otherwise(col('next_payment_date')))"
   ]
  },
  {
   "cell_type": "code",
   "execution_count": null,
   "id": "e11a751a",
   "metadata": {},
   "outputs": [],
   "source": []
  },
  {
   "cell_type": "code",
   "execution_count": null,
   "id": "b15fbae7",
   "metadata": {},
   "outputs": [],
   "source": []
  }
 ],
 "metadata": {
  "kernelspec": {
   "display_name": "Pyspark 3",
   "language": "python",
   "name": "pyspark3"
  },
  "language_info": {
   "codemirror_mode": {
    "name": "ipython",
    "version": 3
   },
   "file_extension": ".py",
   "mimetype": "text/x-python",
   "name": "python",
   "nbconvert_exporter": "python",
   "pygments_lexer": "ipython3",
   "version": "3.6.12"
  }
 },
 "nbformat": 4,
 "nbformat_minor": 5
}
