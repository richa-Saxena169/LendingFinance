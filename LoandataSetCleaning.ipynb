{
 "cells": [
  {
   "cell_type": "code",
   "execution_count": 1,
   "id": "2e71e571",
   "metadata": {},
   "outputs": [],
   "source": [
    "from pyspark.sql import SparkSession\n",
    "import getpass\n",
    "username = getpass.getuser()\n",
    "\n",
    "spark = SparkSession.builder.appName(\"Practice-itv021172-2 \").config('spark.ui.port','0').config('spark.sql.warehouse.dir',f\"/user/itv021172/warehouse\").enableHiveSupport().master('yarn').getOrCreate()"
   ]
  },
  {
   "cell_type": "code",
   "execution_count": 2,
   "id": "1c3b5a1e",
   "metadata": {},
   "outputs": [],
   "source": [
    "schema = '''loan_id string,member_id string,\n",
    "loan_amount float,funded_amount float,loann_term_month string,interest_rate float,installment float,\n",
    "issue_date string,loan_status string,loan_purpose string,\n",
    "title string\n",
    "'''"
   ]
  },
  {
   "cell_type": "code",
   "execution_count": 3,
   "id": "4a3488ac",
   "metadata": {},
   "outputs": [],
   "source": [
    "df = spark.read.format('csv').option('header',True).schema(schema).load('/public/trendytech/lendingclubproject/raw/loans_data_csv/part-00000-30d34559-cada-4e5a-91c1-381f533f4c78-c000.csv')"
   ]
  },
  {
   "cell_type": "code",
   "execution_count": 4,
   "id": "4833e7ed",
   "metadata": {},
   "outputs": [],
   "source": [
    "from pyspark.sql.functions import *"
   ]
  },
  {
   "cell_type": "code",
   "execution_count": 5,
   "id": "11ac769a",
   "metadata": {},
   "outputs": [],
   "source": [
    "loan = df.withColumn('Ingest_date',current_timestamp())"
   ]
  },
  {
   "cell_type": "code",
   "execution_count": 6,
   "id": "69030a45",
   "metadata": {},
   "outputs": [],
   "source": [
    "loandf=loan.dropna(subset=['funded_amount','loan_amount','loann_term_month','interest_rate','installment','issue_date','loan_status','loan_purpose'])"
   ]
  },
  {
   "cell_type": "code",
   "execution_count": null,
   "id": "b4bab884",
   "metadata": {},
   "outputs": [],
   "source": []
  },
  {
   "cell_type": "code",
   "execution_count": 9,
   "id": "2d7374d1",
   "metadata": {},
   "outputs": [],
   "source": [
    "freshloan = loandf.withColumn('loann_term_month',(regexp_replace(col('loann_term_month'),' months','') \\\n",
    ".cast('int')/12) \\\n",
    ".cast('int')) \\\n",
    ".withColumnRenamed('loann_term_month','loan_term_year')"
   ]
  },
  {
   "cell_type": "code",
   "execution_count": 17,
   "id": "e26802f4",
   "metadata": {},
   "outputs": [],
   "source": [
    "reason = ['debt_consolidation','credit_card','home_improvement','major_purchase','medical','small_business','car','vacation','moving','house','wedding','renewable_energy','educational']"
   ]
  },
  {
   "cell_type": "code",
   "execution_count": 18,
   "id": "88412400",
   "metadata": {},
   "outputs": [],
   "source": [
    "loan_withReason = freshloan.withColumn('loan_purpose',when(col('loan_purpose').isin(reason),col('loan_purpose')).otherwise('other'))"
   ]
  },
  {
   "cell_type": "code",
   "execution_count": 22,
   "id": "2554bd30",
   "metadata": {},
   "outputs": [
    {
     "data": {
      "text/html": [
       "<table border='1'>\n",
       "<tr><th>loan_id</th><th>member_id</th><th>loan_amount</th><th>funded_amount</th><th>loan_term_year</th><th>interest_rate</th><th>installment</th><th>issue_date</th><th>loan_status</th><th>loan_purpose</th><th>title</th><th>Ingest_date</th></tr>\n",
       "<tr><td>56633077</td><td>b59d80da191f5b573...</td><td>3000.0</td><td>3000.0</td><td>3</td><td>7.89</td><td>93.86</td><td>Aug-2015</td><td>Fully Paid</td><td>credit_card</td><td>Credit card refin...</td><td>2025-08-25 11:25:...</td></tr>\n",
       "<tr><td>55927518</td><td>202d9f56ecb7c3bc9...</td><td>15600.0</td><td>15600.0</td><td>3</td><td>7.89</td><td>488.06</td><td>Aug-2015</td><td>Fully Paid</td><td>credit_card</td><td>Credit card refin...</td><td>2025-08-25 11:25:...</td></tr>\n",
       "<tr><td>56473345</td><td>e5a140c0922b554b9...</td><td>20000.0</td><td>20000.0</td><td>3</td><td>9.17</td><td>637.58</td><td>Aug-2015</td><td>Fully Paid</td><td>debt_consolidation</td><td>Debt consolidation</td><td>2025-08-25 11:25:...</td></tr>\n",
       "<tr><td>56463188</td><td>e12aefc548f750777...</td><td>11200.0</td><td>11200.0</td><td>5</td><td>21.99</td><td>309.27</td><td>Aug-2015</td><td>Fully Paid</td><td>home_improvement</td><td>Home improvement</td><td>2025-08-25 11:25:...</td></tr>\n",
       "<tr><td>56473316</td><td>1b3a50d854fbbf97e...</td><td>16000.0</td><td>16000.0</td><td>5</td><td>20.99</td><td>432.77</td><td>Aug-2015</td><td>Charged Off</td><td>debt_consolidation</td><td>Debt consolidation</td><td>2025-08-25 11:25:...</td></tr>\n",
       "<tr><td>56663266</td><td>1c4329e5f17697127...</td><td>20000.0</td><td>20000.0</td><td>5</td><td>13.33</td><td>458.45</td><td>Aug-2015</td><td>Charged Off</td><td>debt_consolidation</td><td>Debt consolidation</td><td>2025-08-25 11:25:...</td></tr>\n",
       "<tr><td>56483027</td><td>5026c86ad983175eb...</td><td>10000.0</td><td>10000.0</td><td>3</td><td>12.69</td><td>335.45</td><td>Aug-2015</td><td>Fully Paid</td><td>other</td><td>Other</td><td>2025-08-25 11:25:...</td></tr>\n",
       "<tr><td>56613385</td><td>9847d8c1e9d0b2084...</td><td>23400.0</td><td>23400.0</td><td>5</td><td>19.19</td><td>609.46</td><td>Aug-2015</td><td>Current</td><td>small_business</td><td>Business</td><td>2025-08-25 11:25:...</td></tr>\n",
       "<tr><td>56643620</td><td>8340dbe1adea41fb4...</td><td>16000.0</td><td>16000.0</td><td>3</td><td>5.32</td><td>481.84</td><td>Jul-2015</td><td>Fully Paid</td><td>debt_consolidation</td><td>Debt consolidation</td><td>2025-08-25 11:25:...</td></tr>\n",
       "<tr><td>56533114</td><td>d4de0de3ab7d79ad4...</td><td>25450.0</td><td>25450.0</td><td>3</td><td>27.31</td><td>1043.24</td><td>Aug-2015</td><td>Charged Off</td><td>debt_consolidation</td><td>Debt consolidation</td><td>2025-08-25 11:25:...</td></tr>\n",
       "<tr><td>56984127</td><td>3df3cdeddb74a8712...</td><td>24000.0</td><td>24000.0</td><td>3</td><td>7.89</td><td>750.86</td><td>Aug-2015</td><td>Fully Paid</td><td>debt_consolidation</td><td>Debt consolidation</td><td>2025-08-25 11:25:...</td></tr>\n",
       "<tr><td>56131038</td><td>9dd72636b1b4045b4...</td><td>12000.0</td><td>12000.0</td><td>5</td><td>15.61</td><td>289.34</td><td>Aug-2015</td><td>Current</td><td>credit_card</td><td>Credit card refin...</td><td>2025-08-25 11:25:...</td></tr>\n",
       "<tr><td>56452581</td><td>1d4e1ef4353b73c00...</td><td>25000.0</td><td>25000.0</td><td>3</td><td>13.33</td><td>846.33</td><td>Jul-2015</td><td>Fully Paid</td><td>home_improvement</td><td>Home improvement</td><td>2025-08-25 11:25:...</td></tr>\n",
       "<tr><td>56685321</td><td>6f196952e71277fd4...</td><td>35000.0</td><td>35000.0</td><td>5</td><td>18.55</td><td>899.28</td><td>Aug-2015</td><td>Charged Off</td><td>small_business</td><td>Business</td><td>2025-08-25 11:25:...</td></tr>\n",
       "<tr><td>56563360</td><td>9c617cbc6e3e3d6a1...</td><td>25000.0</td><td>25000.0</td><td>5</td><td>21.99</td><td>690.34</td><td>Aug-2015</td><td>Current</td><td>credit_card</td><td>Credit card refin...</td><td>2025-08-25 11:25:...</td></tr>\n",
       "<tr><td>56533113</td><td>45eb04dd75400a942...</td><td>20000.0</td><td>20000.0</td><td>3</td><td>13.99</td><td>683.46</td><td>Aug-2015</td><td>Fully Paid</td><td>debt_consolidation</td><td>Debt consolidation</td><td>2025-08-25 11:25:...</td></tr>\n",
       "<tr><td>56904118</td><td>08d233c81f9e50726...</td><td>9525.0</td><td>9525.0</td><td>3</td><td>12.29</td><td>317.69</td><td>Aug-2015</td><td>Charged Off</td><td>debt_consolidation</td><td>Debt consolidation</td><td>2025-08-25 11:25:...</td></tr>\n",
       "<tr><td>56473361</td><td>8ff4d0ed17a1cab92...</td><td>4200.0</td><td>4200.0</td><td>3</td><td>15.61</td><td>146.86</td><td>Aug-2015</td><td>Fully Paid</td><td>credit_card</td><td>Credit card refin...</td><td>2025-08-25 11:25:...</td></tr>\n",
       "<tr><td>56021410</td><td>aec13cfd611b2cfea...</td><td>8625.0</td><td>8625.0</td><td>3</td><td>16.55</td><td>305.58</td><td>Aug-2015</td><td>Fully Paid</td><td>debt_consolidation</td><td>Debt consolidation</td><td>2025-08-25 11:25:...</td></tr>\n",
       "<tr><td>56473332</td><td>9ba8c96ccba6cd1f0...</td><td>19000.0</td><td>19000.0</td><td>5</td><td>17.57</td><td>478.05</td><td>Jul-2015</td><td>Current</td><td>credit_card</td><td>Credit card refin...</td><td>2025-08-25 11:25:...</td></tr>\n",
       "</table>\n",
       "only showing top 20 rows\n"
      ],
      "text/plain": [
       "DataFrame[loan_id: string, member_id: string, loan_amount: float, funded_amount: float, loan_term_year: int, interest_rate: float, installment: float, issue_date: string, loan_status: string, loan_purpose: string, title: string, Ingest_date: timestamp]"
      ]
     },
     "execution_count": 22,
     "metadata": {},
     "output_type": "execute_result"
    }
   ],
   "source": [
    "loan_withReason"
   ]
  },
  {
   "cell_type": "raw",
   "id": "09a7b179",
   "metadata": {},
   "source": []
  },
  {
   "cell_type": "code",
   "execution_count": null,
   "id": "9efdec98",
   "metadata": {},
   "outputs": [],
   "source": []
  }
 ],
 "metadata": {
  "kernelspec": {
   "display_name": "Pyspark 3",
   "language": "python",
   "name": "pyspark3"
  },
  "language_info": {
   "codemirror_mode": {
    "name": "ipython",
    "version": 3
   },
   "file_extension": ".py",
   "mimetype": "text/x-python",
   "name": "python",
   "nbconvert_exporter": "python",
   "pygments_lexer": "ipython3",
   "version": "3.6.12"
  }
 },
 "nbformat": 4,
 "nbformat_minor": 5
}
