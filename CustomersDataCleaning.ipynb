{
 "cells": [
  {
   "cell_type": "code",
   "execution_count": 30,
   "id": "f216046a",
   "metadata": {},
   "outputs": [],
   "source": [
    "from pyspark.sql import SparkSession\n",
    "import getpass\n",
    "username = getpass.getuser()\n",
    "\n",
    "spark = SparkSession.builder.appName(\"Practice-itv021172-2 \").config('spark.ui.port','0').config('spark.sql.warehouse.dir',f\"/user/itv021172/warehouse\").enableHiveSupport().master('yarn').getOrCreate()"
   ]
  },
  {
   "cell_type": "code",
   "execution_count": 31,
   "id": "ad880460",
   "metadata": {},
   "outputs": [],
   "source": [
    "schema = '''member_id string,emp_title string,\n",
    "emp_length string,home_ownership string,annual_income float,addr_state string,zip_code string,\n",
    "country string,grade string,sub_grade string,\n",
    "verification_status string,tot_hi_cred_lim float,application_type string,\n",
    " annual_inc_joint float,verification_status_joint string\n",
    "'''"
   ]
  },
  {
   "cell_type": "code",
   "execution_count": 32,
   "id": "d5459d05",
   "metadata": {},
   "outputs": [],
   "source": [
    "df = spark.read.csv('/public/trendytech/lendingclubproject/raw/customers_data_csv/part-00000-694b65c5-0b8f-4760-ac12-2b59978292e0-c000.csv',schema,header=True)"
   ]
  },
  {
   "cell_type": "code",
   "execution_count": 33,
   "id": "3acc9588",
   "metadata": {},
   "outputs": [],
   "source": [
    "col_df = df.withColumnRenamed('addr_state','address_state') \\\n",
    ".withColumnRenamed('country','address_country') \\\n",
    ".withColumnRenamed('tot_hi_cred_lim','total_high_credit_limit') \\\n",
    ".withColumnRenamed('annual_inc_joint','annual_joint_income') \\\n"
   ]
  },
  {
   "cell_type": "code",
   "execution_count": 34,
   "id": "a157f79c",
   "metadata": {},
   "outputs": [
    {
     "data": {
      "text/html": [
       "<table border='1'>\n",
       "<tr><th>member_id</th><th>emp_title</th><th>emp_length</th><th>home_ownership</th><th>annual_income</th><th>address_state</th><th>zip_code</th><th>address_country</th><th>grade</th><th>sub_grade</th><th>verification_status</th><th>total_high_credit_limit</th><th>application_type</th><th>annual_joint_income</th><th>verification_status_joint</th></tr>\n",
       "<tr><td>b59d80da191f5b573...</td><td>null</td><td>null</td><td>RENT</td><td>50000.0</td><td>OR</td><td>973xx</td><td>USA</td><td>A</td><td>A5</td><td>Source Verified</td><td>8600.0</td><td>Individual</td><td>null</td><td>null</td></tr>\n",
       "<tr><td>202d9f56ecb7c3bc9...</td><td>police officer</td><td>7 years</td><td>OWN</td><td>85000.0</td><td>TX</td><td>799xx</td><td>USA</td><td>A</td><td>A5</td><td>Source Verified</td><td>272384.0</td><td>Individual</td><td>null</td><td>null</td></tr>\n",
       "<tr><td>e5a140c0922b554b9...</td><td>community living ...</td><td>6 years</td><td>RENT</td><td>48000.0</td><td>NY</td><td>146xx</td><td>USA</td><td>B</td><td>B2</td><td>Source Verified</td><td>85092.0</td><td>Individual</td><td>null</td><td>null</td></tr>\n",
       "<tr><td>e12aefc548f750777...</td><td>Office</td><td>10+ years</td><td>OWN</td><td>33000.0</td><td>CT</td><td>067xx</td><td>USA</td><td>F</td><td>F1</td><td>Verified</td><td>7100.0</td><td>Individual</td><td>null</td><td>null</td></tr>\n",
       "<tr><td>1b3a50d854fbbf97e...</td><td>Special Tooling I...</td><td>10+ years</td><td>MORTGAGE</td><td>81000.0</td><td>TX</td><td>791xx</td><td>USA</td><td>E</td><td>E5</td><td>Verified</td><td>190274.0</td><td>Individual</td><td>null</td><td>null</td></tr>\n",
       "<tr><td>1c4329e5f17697127...</td><td>Mine ops tech 6</td><td>2 years</td><td>MORTGAGE</td><td>68000.0</td><td>AZ</td><td>855xx</td><td>USA</td><td>C</td><td>C3</td><td>Not Verified</td><td>182453.0</td><td>Individual</td><td>null</td><td>null</td></tr>\n",
       "<tr><td>5026c86ad983175eb...</td><td>caregiver</td><td>4 years</td><td>RENT</td><td>76020.0</td><td>WA</td><td>993xx</td><td>USA</td><td>C</td><td>C2</td><td>Source Verified</td><td>15308.0</td><td>Individual</td><td>null</td><td>null</td></tr>\n",
       "<tr><td>9847d8c1e9d0b2084...</td><td>null</td><td>null</td><td>OWN</td><td>65000.0</td><td>IL</td><td>624xx</td><td>USA</td><td>E</td><td>E3</td><td>Verified</td><td>128800.0</td><td>Individual</td><td>null</td><td>null</td></tr>\n",
       "<tr><td>8340dbe1adea41fb4...</td><td>Vice President Re...</td><td>8 years</td><td>MORTGAGE</td><td>111000.0</td><td>CT</td><td>063xx</td><td>USA</td><td>A</td><td>A1</td><td>Not Verified</td><td>343507.0</td><td>Individual</td><td>null</td><td>null</td></tr>\n",
       "<tr><td>d4de0de3ab7d79ad4...</td><td>FOREMAN</td><td>10+ years</td><td>MORTGAGE</td><td>67000.0</td><td>WA</td><td>992xx</td><td>USA</td><td>G</td><td>G2</td><td>Verified</td><td>211501.0</td><td>Individual</td><td>null</td><td>null</td></tr>\n",
       "<tr><td>3df3cdeddb74a8712...</td><td>Strategist</td><td>1 year</td><td>RENT</td><td>120000.0</td><td>CA</td><td>946xx</td><td>USA</td><td>A</td><td>A5</td><td>Verified</td><td>56844.0</td><td>Individual</td><td>null</td><td>null</td></tr>\n",
       "<tr><td>9dd72636b1b4045b4...</td><td>Office Manager</td><td>2 years</td><td>RENT</td><td>52000.0</td><td>FL</td><td>327xx</td><td>USA</td><td>D</td><td>D1</td><td>Source Verified</td><td>39393.0</td><td>Individual</td><td>null</td><td>null</td></tr>\n",
       "<tr><td>1d4e1ef4353b73c00...</td><td>Electrician</td><td>2 years</td><td>MORTGAGE</td><td>50000.0</td><td>IL</td><td>606xx</td><td>USA</td><td>C</td><td>C3</td><td>Not Verified</td><td>66064.0</td><td>Individual</td><td>null</td><td>null</td></tr>\n",
       "<tr><td>6f196952e71277fd4...</td><td>Finance Manager</td><td>1 year</td><td>MORTGAGE</td><td>125000.0</td><td>GA</td><td>310xx</td><td>USA</td><td>E</td><td>E2</td><td>Source Verified</td><td>555591.0</td><td>Individual</td><td>null</td><td>null</td></tr>\n",
       "<tr><td>9c617cbc6e3e3d6a1...</td><td>Nurse practitioner</td><td>5 years</td><td>MORTGAGE</td><td>165000.0</td><td>IL</td><td>610xx</td><td>USA</td><td>F</td><td>F1</td><td>Source Verified</td><td>366113.0</td><td>Individual</td><td>null</td><td>null</td></tr>\n",
       "<tr><td>45eb04dd75400a942...</td><td>equipment operator</td><td>3 years</td><td>MORTGAGE</td><td>60000.0</td><td>CT</td><td>064xx</td><td>USA</td><td>C</td><td>C4</td><td>Source Verified</td><td>198693.0</td><td>Individual</td><td>null</td><td>null</td></tr>\n",
       "<tr><td>08d233c81f9e50726...</td><td>caregiver</td><td>2 years</td><td>RENT</td><td>36000.0</td><td>MO</td><td>648xx</td><td>USA</td><td>C</td><td>C1</td><td>Source Verified</td><td>14477.0</td><td>Individual</td><td>null</td><td>null</td></tr>\n",
       "<tr><td>8ff4d0ed17a1cab92...</td><td>owner</td><td>10+ years</td><td>MORTGAGE</td><td>28000.0</td><td>CO</td><td>801xx</td><td>USA</td><td>D</td><td>D1</td><td>Verified</td><td>314400.0</td><td>Individual</td><td>null</td><td>null</td></tr>\n",
       "<tr><td>aec13cfd611b2cfea...</td><td>Community Supervi...</td><td>2 years</td><td>RENT</td><td>33000.0</td><td>GA</td><td>306xx</td><td>USA</td><td>D</td><td>D2</td><td>Source Verified</td><td>188700.0</td><td>Individual</td><td>null</td><td>null</td></tr>\n",
       "<tr><td>9ba8c96ccba6cd1f0...</td><td>Contract Specialist</td><td>5 years</td><td>MORTGAGE</td><td>74700.0</td><td>UT</td><td>844xx</td><td>USA</td><td>D</td><td>D4</td><td>Verified</td><td>614272.0</td><td>Individual</td><td>null</td><td>null</td></tr>\n",
       "</table>\n",
       "only showing top 20 rows\n"
      ],
      "text/plain": [
       "+--------------------+--------------------+----------+--------------+-------------+-------------+--------+---------------+-----+---------+-------------------+-----------------------+----------------+-------------------+-------------------------+\n",
       "|           member_id|           emp_title|emp_length|home_ownership|annual_income|address_state|zip_code|address_country|grade|sub_grade|verification_status|total_high_credit_limit|application_type|annual_joint_income|verification_status_joint|\n",
       "+--------------------+--------------------+----------+--------------+-------------+-------------+--------+---------------+-----+---------+-------------------+-----------------------+----------------+-------------------+-------------------------+\n",
       "|b59d80da191f5b573...|                null|      null|          RENT|      50000.0|           OR|   973xx|            USA|    A|       A5|    Source Verified|                 8600.0|      Individual|               null|                     null|\n",
       "|202d9f56ecb7c3bc9...|      police officer|   7 years|           OWN|      85000.0|           TX|   799xx|            USA|    A|       A5|    Source Verified|               272384.0|      Individual|               null|                     null|\n",
       "|e5a140c0922b554b9...|community living ...|   6 years|          RENT|      48000.0|           NY|   146xx|            USA|    B|       B2|    Source Verified|                85092.0|      Individual|               null|                     null|\n",
       "|e12aefc548f750777...|              Office| 10+ years|           OWN|      33000.0|           CT|   067xx|            USA|    F|       F1|           Verified|                 7100.0|      Individual|               null|                     null|\n",
       "|1b3a50d854fbbf97e...|Special Tooling I...| 10+ years|      MORTGAGE|      81000.0|           TX|   791xx|            USA|    E|       E5|           Verified|               190274.0|      Individual|               null|                     null|\n",
       "|1c4329e5f17697127...|     Mine ops tech 6|   2 years|      MORTGAGE|      68000.0|           AZ|   855xx|            USA|    C|       C3|       Not Verified|               182453.0|      Individual|               null|                     null|\n",
       "|5026c86ad983175eb...|           caregiver|   4 years|          RENT|      76020.0|           WA|   993xx|            USA|    C|       C2|    Source Verified|                15308.0|      Individual|               null|                     null|\n",
       "|9847d8c1e9d0b2084...|                null|      null|           OWN|      65000.0|           IL|   624xx|            USA|    E|       E3|           Verified|               128800.0|      Individual|               null|                     null|\n",
       "|8340dbe1adea41fb4...|Vice President Re...|   8 years|      MORTGAGE|     111000.0|           CT|   063xx|            USA|    A|       A1|       Not Verified|               343507.0|      Individual|               null|                     null|\n",
       "|d4de0de3ab7d79ad4...|             FOREMAN| 10+ years|      MORTGAGE|      67000.0|           WA|   992xx|            USA|    G|       G2|           Verified|               211501.0|      Individual|               null|                     null|\n",
       "|3df3cdeddb74a8712...|          Strategist|    1 year|          RENT|     120000.0|           CA|   946xx|            USA|    A|       A5|           Verified|                56844.0|      Individual|               null|                     null|\n",
       "|9dd72636b1b4045b4...|      Office Manager|   2 years|          RENT|      52000.0|           FL|   327xx|            USA|    D|       D1|    Source Verified|                39393.0|      Individual|               null|                     null|\n",
       "|1d4e1ef4353b73c00...|         Electrician|   2 years|      MORTGAGE|      50000.0|           IL|   606xx|            USA|    C|       C3|       Not Verified|                66064.0|      Individual|               null|                     null|\n",
       "|6f196952e71277fd4...|     Finance Manager|    1 year|      MORTGAGE|     125000.0|           GA|   310xx|            USA|    E|       E2|    Source Verified|               555591.0|      Individual|               null|                     null|\n",
       "|9c617cbc6e3e3d6a1...|  Nurse practitioner|   5 years|      MORTGAGE|     165000.0|           IL|   610xx|            USA|    F|       F1|    Source Verified|               366113.0|      Individual|               null|                     null|\n",
       "|45eb04dd75400a942...|  equipment operator|   3 years|      MORTGAGE|      60000.0|           CT|   064xx|            USA|    C|       C4|    Source Verified|               198693.0|      Individual|               null|                     null|\n",
       "|08d233c81f9e50726...|           caregiver|   2 years|          RENT|      36000.0|           MO|   648xx|            USA|    C|       C1|    Source Verified|                14477.0|      Individual|               null|                     null|\n",
       "|8ff4d0ed17a1cab92...|               owner| 10+ years|      MORTGAGE|      28000.0|           CO|   801xx|            USA|    D|       D1|           Verified|               314400.0|      Individual|               null|                     null|\n",
       "|aec13cfd611b2cfea...|Community Supervi...|   2 years|          RENT|      33000.0|           GA|   306xx|            USA|    D|       D2|    Source Verified|               188700.0|      Individual|               null|                     null|\n",
       "|9ba8c96ccba6cd1f0...| Contract Specialist|   5 years|      MORTGAGE|      74700.0|           UT|   844xx|            USA|    D|       D4|           Verified|               614272.0|      Individual|               null|                     null|\n",
       "+--------------------+--------------------+----------+--------------+-------------+-------------+--------+---------------+-----+---------+-------------------+-----------------------+----------------+-------------------+-------------------------+\n",
       "only showing top 20 rows"
      ]
     },
     "execution_count": 34,
     "metadata": {},
     "output_type": "execute_result"
    }
   ],
   "source": [
    "col_df"
   ]
  },
  {
   "cell_type": "code",
   "execution_count": 35,
   "id": "76423edf",
   "metadata": {},
   "outputs": [],
   "source": [
    "from pyspark.sql.functions import *"
   ]
  },
  {
   "cell_type": "code",
   "execution_count": 36,
   "id": "bc5739d2",
   "metadata": {},
   "outputs": [],
   "source": [
    "cusst_df = col_df.withColumn('Ingest_date',current_timestamp())"
   ]
  },
  {
   "cell_type": "code",
   "execution_count": null,
   "id": "3b548796",
   "metadata": {},
   "outputs": [],
   "source": []
  },
  {
   "cell_type": "code",
   "execution_count": 37,
   "id": "ee4998ff",
   "metadata": {},
   "outputs": [
    {
     "data": {
      "text/html": [
       "<table border='1'>\n",
       "<tr><th>member_id</th><th>emp_title</th><th>emp_length</th><th>home_ownership</th><th>annual_income</th><th>address_state</th><th>zip_code</th><th>address_country</th><th>grade</th><th>sub_grade</th><th>verification_status</th><th>total_high_credit_limit</th><th>application_type</th><th>annual_joint_income</th><th>verification_status_joint</th><th>Ingest_date</th></tr>\n",
       "<tr><td>b59d80da191f5b573...</td><td>null</td><td>null</td><td>RENT</td><td>50000.0</td><td>OR</td><td>973xx</td><td>USA</td><td>A</td><td>A5</td><td>Source Verified</td><td>8600.0</td><td>Individual</td><td>null</td><td>null</td><td>2025-08-25 10:07:...</td></tr>\n",
       "<tr><td>202d9f56ecb7c3bc9...</td><td>police officer</td><td>7 years</td><td>OWN</td><td>85000.0</td><td>TX</td><td>799xx</td><td>USA</td><td>A</td><td>A5</td><td>Source Verified</td><td>272384.0</td><td>Individual</td><td>null</td><td>null</td><td>2025-08-25 10:07:...</td></tr>\n",
       "<tr><td>e5a140c0922b554b9...</td><td>community living ...</td><td>6 years</td><td>RENT</td><td>48000.0</td><td>NY</td><td>146xx</td><td>USA</td><td>B</td><td>B2</td><td>Source Verified</td><td>85092.0</td><td>Individual</td><td>null</td><td>null</td><td>2025-08-25 10:07:...</td></tr>\n",
       "<tr><td>e12aefc548f750777...</td><td>Office</td><td>10+ years</td><td>OWN</td><td>33000.0</td><td>CT</td><td>067xx</td><td>USA</td><td>F</td><td>F1</td><td>Verified</td><td>7100.0</td><td>Individual</td><td>null</td><td>null</td><td>2025-08-25 10:07:...</td></tr>\n",
       "<tr><td>1b3a50d854fbbf97e...</td><td>Special Tooling I...</td><td>10+ years</td><td>MORTGAGE</td><td>81000.0</td><td>TX</td><td>791xx</td><td>USA</td><td>E</td><td>E5</td><td>Verified</td><td>190274.0</td><td>Individual</td><td>null</td><td>null</td><td>2025-08-25 10:07:...</td></tr>\n",
       "<tr><td>1c4329e5f17697127...</td><td>Mine ops tech 6</td><td>2 years</td><td>MORTGAGE</td><td>68000.0</td><td>AZ</td><td>855xx</td><td>USA</td><td>C</td><td>C3</td><td>Not Verified</td><td>182453.0</td><td>Individual</td><td>null</td><td>null</td><td>2025-08-25 10:07:...</td></tr>\n",
       "<tr><td>5026c86ad983175eb...</td><td>caregiver</td><td>4 years</td><td>RENT</td><td>76020.0</td><td>WA</td><td>993xx</td><td>USA</td><td>C</td><td>C2</td><td>Source Verified</td><td>15308.0</td><td>Individual</td><td>null</td><td>null</td><td>2025-08-25 10:07:...</td></tr>\n",
       "<tr><td>9847d8c1e9d0b2084...</td><td>null</td><td>null</td><td>OWN</td><td>65000.0</td><td>IL</td><td>624xx</td><td>USA</td><td>E</td><td>E3</td><td>Verified</td><td>128800.0</td><td>Individual</td><td>null</td><td>null</td><td>2025-08-25 10:07:...</td></tr>\n",
       "<tr><td>8340dbe1adea41fb4...</td><td>Vice President Re...</td><td>8 years</td><td>MORTGAGE</td><td>111000.0</td><td>CT</td><td>063xx</td><td>USA</td><td>A</td><td>A1</td><td>Not Verified</td><td>343507.0</td><td>Individual</td><td>null</td><td>null</td><td>2025-08-25 10:07:...</td></tr>\n",
       "<tr><td>d4de0de3ab7d79ad4...</td><td>FOREMAN</td><td>10+ years</td><td>MORTGAGE</td><td>67000.0</td><td>WA</td><td>992xx</td><td>USA</td><td>G</td><td>G2</td><td>Verified</td><td>211501.0</td><td>Individual</td><td>null</td><td>null</td><td>2025-08-25 10:07:...</td></tr>\n",
       "<tr><td>3df3cdeddb74a8712...</td><td>Strategist</td><td>1 year</td><td>RENT</td><td>120000.0</td><td>CA</td><td>946xx</td><td>USA</td><td>A</td><td>A5</td><td>Verified</td><td>56844.0</td><td>Individual</td><td>null</td><td>null</td><td>2025-08-25 10:07:...</td></tr>\n",
       "<tr><td>9dd72636b1b4045b4...</td><td>Office Manager</td><td>2 years</td><td>RENT</td><td>52000.0</td><td>FL</td><td>327xx</td><td>USA</td><td>D</td><td>D1</td><td>Source Verified</td><td>39393.0</td><td>Individual</td><td>null</td><td>null</td><td>2025-08-25 10:07:...</td></tr>\n",
       "<tr><td>1d4e1ef4353b73c00...</td><td>Electrician</td><td>2 years</td><td>MORTGAGE</td><td>50000.0</td><td>IL</td><td>606xx</td><td>USA</td><td>C</td><td>C3</td><td>Not Verified</td><td>66064.0</td><td>Individual</td><td>null</td><td>null</td><td>2025-08-25 10:07:...</td></tr>\n",
       "<tr><td>6f196952e71277fd4...</td><td>Finance Manager</td><td>1 year</td><td>MORTGAGE</td><td>125000.0</td><td>GA</td><td>310xx</td><td>USA</td><td>E</td><td>E2</td><td>Source Verified</td><td>555591.0</td><td>Individual</td><td>null</td><td>null</td><td>2025-08-25 10:07:...</td></tr>\n",
       "<tr><td>9c617cbc6e3e3d6a1...</td><td>Nurse practitioner</td><td>5 years</td><td>MORTGAGE</td><td>165000.0</td><td>IL</td><td>610xx</td><td>USA</td><td>F</td><td>F1</td><td>Source Verified</td><td>366113.0</td><td>Individual</td><td>null</td><td>null</td><td>2025-08-25 10:07:...</td></tr>\n",
       "<tr><td>45eb04dd75400a942...</td><td>equipment operator</td><td>3 years</td><td>MORTGAGE</td><td>60000.0</td><td>CT</td><td>064xx</td><td>USA</td><td>C</td><td>C4</td><td>Source Verified</td><td>198693.0</td><td>Individual</td><td>null</td><td>null</td><td>2025-08-25 10:07:...</td></tr>\n",
       "<tr><td>08d233c81f9e50726...</td><td>caregiver</td><td>2 years</td><td>RENT</td><td>36000.0</td><td>MO</td><td>648xx</td><td>USA</td><td>C</td><td>C1</td><td>Source Verified</td><td>14477.0</td><td>Individual</td><td>null</td><td>null</td><td>2025-08-25 10:07:...</td></tr>\n",
       "<tr><td>8ff4d0ed17a1cab92...</td><td>owner</td><td>10+ years</td><td>MORTGAGE</td><td>28000.0</td><td>CO</td><td>801xx</td><td>USA</td><td>D</td><td>D1</td><td>Verified</td><td>314400.0</td><td>Individual</td><td>null</td><td>null</td><td>2025-08-25 10:07:...</td></tr>\n",
       "<tr><td>aec13cfd611b2cfea...</td><td>Community Supervi...</td><td>2 years</td><td>RENT</td><td>33000.0</td><td>GA</td><td>306xx</td><td>USA</td><td>D</td><td>D2</td><td>Source Verified</td><td>188700.0</td><td>Individual</td><td>null</td><td>null</td><td>2025-08-25 10:07:...</td></tr>\n",
       "<tr><td>9ba8c96ccba6cd1f0...</td><td>Contract Specialist</td><td>5 years</td><td>MORTGAGE</td><td>74700.0</td><td>UT</td><td>844xx</td><td>USA</td><td>D</td><td>D4</td><td>Verified</td><td>614272.0</td><td>Individual</td><td>null</td><td>null</td><td>2025-08-25 10:07:...</td></tr>\n",
       "</table>\n",
       "only showing top 20 rows\n"
      ],
      "text/plain": [
       "+--------------------+--------------------+----------+--------------+-------------+-------------+--------+---------------+-----+---------+-------------------+-----------------------+----------------+-------------------+-------------------------+--------------------+\n",
       "|           member_id|           emp_title|emp_length|home_ownership|annual_income|address_state|zip_code|address_country|grade|sub_grade|verification_status|total_high_credit_limit|application_type|annual_joint_income|verification_status_joint|         Ingest_date|\n",
       "+--------------------+--------------------+----------+--------------+-------------+-------------+--------+---------------+-----+---------+-------------------+-----------------------+----------------+-------------------+-------------------------+--------------------+\n",
       "|b59d80da191f5b573...|                null|      null|          RENT|      50000.0|           OR|   973xx|            USA|    A|       A5|    Source Verified|                 8600.0|      Individual|               null|                     null|2025-08-25 10:07:...|\n",
       "|202d9f56ecb7c3bc9...|      police officer|   7 years|           OWN|      85000.0|           TX|   799xx|            USA|    A|       A5|    Source Verified|               272384.0|      Individual|               null|                     null|2025-08-25 10:07:...|\n",
       "|e5a140c0922b554b9...|community living ...|   6 years|          RENT|      48000.0|           NY|   146xx|            USA|    B|       B2|    Source Verified|                85092.0|      Individual|               null|                     null|2025-08-25 10:07:...|\n",
       "|e12aefc548f750777...|              Office| 10+ years|           OWN|      33000.0|           CT|   067xx|            USA|    F|       F1|           Verified|                 7100.0|      Individual|               null|                     null|2025-08-25 10:07:...|\n",
       "|1b3a50d854fbbf97e...|Special Tooling I...| 10+ years|      MORTGAGE|      81000.0|           TX|   791xx|            USA|    E|       E5|           Verified|               190274.0|      Individual|               null|                     null|2025-08-25 10:07:...|\n",
       "|1c4329e5f17697127...|     Mine ops tech 6|   2 years|      MORTGAGE|      68000.0|           AZ|   855xx|            USA|    C|       C3|       Not Verified|               182453.0|      Individual|               null|                     null|2025-08-25 10:07:...|\n",
       "|5026c86ad983175eb...|           caregiver|   4 years|          RENT|      76020.0|           WA|   993xx|            USA|    C|       C2|    Source Verified|                15308.0|      Individual|               null|                     null|2025-08-25 10:07:...|\n",
       "|9847d8c1e9d0b2084...|                null|      null|           OWN|      65000.0|           IL|   624xx|            USA|    E|       E3|           Verified|               128800.0|      Individual|               null|                     null|2025-08-25 10:07:...|\n",
       "|8340dbe1adea41fb4...|Vice President Re...|   8 years|      MORTGAGE|     111000.0|           CT|   063xx|            USA|    A|       A1|       Not Verified|               343507.0|      Individual|               null|                     null|2025-08-25 10:07:...|\n",
       "|d4de0de3ab7d79ad4...|             FOREMAN| 10+ years|      MORTGAGE|      67000.0|           WA|   992xx|            USA|    G|       G2|           Verified|               211501.0|      Individual|               null|                     null|2025-08-25 10:07:...|\n",
       "|3df3cdeddb74a8712...|          Strategist|    1 year|          RENT|     120000.0|           CA|   946xx|            USA|    A|       A5|           Verified|                56844.0|      Individual|               null|                     null|2025-08-25 10:07:...|\n",
       "|9dd72636b1b4045b4...|      Office Manager|   2 years|          RENT|      52000.0|           FL|   327xx|            USA|    D|       D1|    Source Verified|                39393.0|      Individual|               null|                     null|2025-08-25 10:07:...|\n",
       "|1d4e1ef4353b73c00...|         Electrician|   2 years|      MORTGAGE|      50000.0|           IL|   606xx|            USA|    C|       C3|       Not Verified|                66064.0|      Individual|               null|                     null|2025-08-25 10:07:...|\n",
       "|6f196952e71277fd4...|     Finance Manager|    1 year|      MORTGAGE|     125000.0|           GA|   310xx|            USA|    E|       E2|    Source Verified|               555591.0|      Individual|               null|                     null|2025-08-25 10:07:...|\n",
       "|9c617cbc6e3e3d6a1...|  Nurse practitioner|   5 years|      MORTGAGE|     165000.0|           IL|   610xx|            USA|    F|       F1|    Source Verified|               366113.0|      Individual|               null|                     null|2025-08-25 10:07:...|\n",
       "|45eb04dd75400a942...|  equipment operator|   3 years|      MORTGAGE|      60000.0|           CT|   064xx|            USA|    C|       C4|    Source Verified|               198693.0|      Individual|               null|                     null|2025-08-25 10:07:...|\n",
       "|08d233c81f9e50726...|           caregiver|   2 years|          RENT|      36000.0|           MO|   648xx|            USA|    C|       C1|    Source Verified|                14477.0|      Individual|               null|                     null|2025-08-25 10:07:...|\n",
       "|8ff4d0ed17a1cab92...|               owner| 10+ years|      MORTGAGE|      28000.0|           CO|   801xx|            USA|    D|       D1|           Verified|               314400.0|      Individual|               null|                     null|2025-08-25 10:07:...|\n",
       "|aec13cfd611b2cfea...|Community Supervi...|   2 years|          RENT|      33000.0|           GA|   306xx|            USA|    D|       D2|    Source Verified|               188700.0|      Individual|               null|                     null|2025-08-25 10:07:...|\n",
       "|9ba8c96ccba6cd1f0...| Contract Specialist|   5 years|      MORTGAGE|      74700.0|           UT|   844xx|            USA|    D|       D4|           Verified|               614272.0|      Individual|               null|                     null|2025-08-25 10:07:...|\n",
       "+--------------------+--------------------+----------+--------------+-------------+-------------+--------+---------------+-----+---------+-------------------+-----------------------+----------------+-------------------+-------------------------+--------------------+\n",
       "only showing top 20 rows"
      ]
     },
     "execution_count": 37,
     "metadata": {},
     "output_type": "execute_result"
    }
   ],
   "source": [
    "cusst_df"
   ]
  },
  {
   "cell_type": "code",
   "execution_count": 38,
   "id": "7036d639",
   "metadata": {},
   "outputs": [],
   "source": [
    "cust_distinct = cusst_df.distinct()"
   ]
  },
  {
   "cell_type": "code",
   "execution_count": 39,
   "id": "a6ce5123",
   "metadata": {},
   "outputs": [],
   "source": [
    "cust_nondup = cust_distinct.dropna(subset=['annual_income'])"
   ]
  },
  {
   "cell_type": "code",
   "execution_count": 40,
   "id": "79422330",
   "metadata": {},
   "outputs": [],
   "source": [
    "cust_nondup.createOrReplaceTempView('Customer')"
   ]
  },
  {
   "cell_type": "code",
   "execution_count": 41,
   "id": "ab1fdb43",
   "metadata": {},
   "outputs": [],
   "source": [
    "cust_mod = cust_nondup.withColumn('emp_length', regexp_replace(col('emp_length'),'\\D',''))"
   ]
  },
  {
   "cell_type": "code",
   "execution_count": 42,
   "id": "9213a4fd",
   "metadata": {},
   "outputs": [],
   "source": [
    "custfin =  cust_mod.withColumn('emp_length',cust_mod['emp_length'].cast(\"int\"))"
   ]
  },
  {
   "cell_type": "code",
   "execution_count": 43,
   "id": "48aa60d2",
   "metadata": {},
   "outputs": [
    {
     "data": {
      "text/html": [
       "<table border='1'>\n",
       "<tr><th>avg(emp_length)</th></tr>\n",
       "<tr><td>6.021258628112389</td></tr>\n",
       "</table>\n"
      ],
      "text/plain": [
       "+-----------------+\n",
       "|  avg(emp_length)|\n",
       "+-----------------+\n",
       "|6.021258628112389|\n",
       "+-----------------+"
      ]
     },
     "execution_count": 43,
     "metadata": {},
     "output_type": "execute_result"
    }
   ],
   "source": [
    "custfin.select(avg('emp_length'))"
   ]
  },
  {
   "cell_type": "code",
   "execution_count": 44,
   "id": "ff1027bc",
   "metadata": {},
   "outputs": [],
   "source": [
    "cust_null = custfin.fillna( 6 , subset=['emp_length'])"
   ]
  },
  {
   "cell_type": "code",
   "execution_count": 45,
   "id": "cb54c79c",
   "metadata": {},
   "outputs": [],
   "source": [
    "cust_statefilter = cust_null.withColumn('address_state',when(length(col('address_state'))>2,'NA').otherwise(col('address_state')))"
   ]
  },
  {
   "cell_type": "code",
   "execution_count": 46,
   "id": "450e81d6",
   "metadata": {},
   "outputs": [],
   "source": [
    "cust_statefilter.show()"
   ]
  },
  {
   "cell_type": "code",
   "execution_count": 49,
   "id": "99ecc08a",
   "metadata": {},
   "outputs": [],
   "source": [
    "cust_statefilter.write.format('parquet').mode('overwrite').option('path','data/cleaned').save()"
   ]
  },
  {
   "cell_type": "code",
   "execution_count": 48,
   "id": "60ae650d",
   "metadata": {},
   "outputs": [],
   "source": [
    "cust_statefilter.write.format('csv').mode('overwrite').option('path','data/cleaned').save()"
   ]
  },
  {
   "cell_type": "code",
   "execution_count": 29,
   "id": "d6054b05",
   "metadata": {},
   "outputs": [],
   "source": []
  },
  {
   "cell_type": "code",
   "execution_count": null,
   "id": "3ef993ce",
   "metadata": {},
   "outputs": [],
   "source": []
  }
 ],
 "metadata": {
  "kernelspec": {
   "display_name": "Pyspark 3",
   "language": "python",
   "name": "pyspark3"
  },
  "language_info": {
   "codemirror_mode": {
    "name": "ipython",
    "version": 3
   },
   "file_extension": ".py",
   "mimetype": "text/x-python",
   "name": "python",
   "nbconvert_exporter": "python",
   "pygments_lexer": "ipython3",
   "version": "3.6.12"
  }
 },
 "nbformat": 4,
 "nbformat_minor": 5
}
